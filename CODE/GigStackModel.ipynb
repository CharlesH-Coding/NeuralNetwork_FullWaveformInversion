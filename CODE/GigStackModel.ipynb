{
 "cells": [
  {
   "cell_type": "code",
   "execution_count": 22,
   "id": "9521a2ac",
   "metadata": {},
   "outputs": [
    {
     "name": "stdout",
     "output_type": "stream",
     "text": [
      "WARNING:tensorflow:From C:\\Users\\johno\\AppData\\Local\\Temp/ipykernel_21312/835452710.py:24: The name tf.keras.backend.set_session is deprecated. Please use tf.compat.v1.keras.backend.set_session instead.\n",
      "\n"
     ]
    }
   ],
   "source": [
    "seed_value= 100\n",
    "# 1. Set `PYTHONHASHSEED` environment variable at a fixed value\n",
    "import os\n",
    "os.environ['PYTHONHASHSEED']=str(seed_value)\n",
    "# 2. Set `python` built-in pseudo-random generator at a fixed value\n",
    "import random\n",
    "random.seed(seed_value)\n",
    "# 3. Set `numpy` pseudo-random generator at a fixed value\n",
    "import numpy as np\n",
    "np.random.seed(seed_value)\n",
    "# 4. Set the `tensorflow` pseudo-random generator at a fixed value\n",
    "import tensorflow as tf\n",
    "tf.random.set_seed(seed_value)\n",
    "# for later versions:\n",
    "# tf.compat.v1.set_random_seed(seed_value)\n",
    "# 5. Configure a new global `tensorflow` session\n",
    "from keras import backend as K\n",
    "# session_conf = tf.ConfigProto(intra_op_parallelism_threads=1, inter_op_parallelism_threads=1)\n",
    "# sess = tf.Session(graph=tf.get_default_graph(), config=session_conf)\n",
    "# K.set_session(sess)\n",
    "# for later versions:\n",
    "session_conf = tf.compat.v1.ConfigProto(intra_op_parallelism_threads=1, inter_op_parallelism_threads=1)\n",
    "sess = tf.compat.v1.Session(graph=tf.compat.v1.get_default_graph(), config=session_conf)\n",
    "tf.compat.v1.keras.backend.set_session(sess)\n",
    "import keras"
   ]
  },
  {
   "cell_type": "code",
   "execution_count": 23,
   "id": "27a3a8b3",
   "metadata": {},
   "outputs": [],
   "source": [
    "#import numpy as np\n",
    "import matplotlib.pyplot as plt\n",
    "from sklearn.model_selection import KFold #--needed for cross validation\n",
    "from sklearn.preprocessing import StandardScaler\n",
    "import pandas as pd\n",
    "#import keras\n",
    "import scipy as sc\n",
    "from scipy import signal\n",
    "import autokeras as ak\n",
    "#import tensorflow as tf\n",
    "from tensorflow.keras import layers\n",
    "from autokeras import StructuredDataRegressor"
   ]
  },
  {
   "cell_type": "code",
   "execution_count": 37,
   "id": "97373dd8",
   "metadata": {},
   "outputs": [
    {
     "name": "stdout",
     "output_type": "stream",
     "text": [
      "Reading in HourStacked Data...\n",
      "Index(['SRC_ID', 'REC_ID', 'SRC_Lat', 'SRC_Lon', 'REC_Lat', 'REC_Lon',\n",
      "       'Greens'],\n",
      "      dtype='object')\n",
      "(380, 3001)\n",
      "(380, 4)\n",
      "[  41.467999 -105.722099   41.467602 -104.824799]\n",
      "[0.02998942 0.03012634 0.03028129 ... 0.14591307 0.11500662 0.08389596]\n"
     ]
    }
   ],
   "source": [
    "class GeoData:\n",
    "    def __init__(self,file):\n",
    "        self.Scaler = StandardScaler()\n",
    "        self.df = pd.read_hdf(file, key='df')\n",
    "        #self.df = pd.read_pickle(\"./SuperStack.pkl\")\n",
    "        print(self.df.columns) \n",
    "        X_df= self.df[[\"SRC_Lat\",\"SRC_Lon\",\"REC_Lat\",\"REC_Lon\"]].copy()\n",
    "        y_df= self.df[[\"Greens\"]].copy()\n",
    "       \n",
    "        \n",
    "        self.X=  X_df.to_numpy()\n",
    "        self.y= y_df.to_numpy()\n",
    "        self.y=  self.y[:,0]\n",
    "        self.y = [ x.tolist() for x in self.y]\n",
    "        self.y= np.array(self.y)\n",
    "        self.y= self.y/ np.max(self.y,axis=1).reshape(-1,1)\n",
    "                         \n",
    "        \n",
    "        #self.y.shape = (380)\n",
    "        print(self.y.shape)\n",
    "        #print(self.y)\n",
    "        print(self.X.shape)\n",
    "        print(self.X[0])\n",
    "        print(self.y[0])\n",
    "testFile_s=\"SuperStack.hdf\"  \n",
    "#testFile_s=\"SuperStack.hdf\"\n",
    "print(\"Reading in HourStacked Data...\")\n",
    "Geo_s = GeoData(testFile_s)"
   ]
  },
  {
   "cell_type": "code",
   "execution_count": 114,
   "id": "7a0e50bd",
   "metadata": {
    "scrolled": false
   },
   "outputs": [
    {
     "name": "stdout",
     "output_type": "stream",
     "text": [
      "Will use for Cross Validation for training\n"
     ]
    }
   ],
   "source": [
    "def kFolds(Geo):\n",
    "    kf = KFold(n_splits=2)\n",
    "    X= Geo.X.copy()\n",
    "    y= Geo.y.copy()\n",
    "    KFold(n_splits=2, random_state=42, shuffle=True)\n",
    "    count=0\n",
    "    print(\"Will use for Cross Validation for training\")\n",
    "    for train_index, test_index in kf.split(X):\n",
    "        if(count==0):\n",
    "            #print(\"Train:\", train_index, \"Test:\", test_index)\n",
    "            train_x_crossV1, test_x_crossV1 = X[train_index], X[test_index]\n",
    "            train_y_crossV1, test_y_crossV1 = y[train_index], y[test_index]\n",
    "            #print(train_x_crossV1)\n",
    "            count+=1\n",
    "        else:\n",
    "            #print(\"Train:\", train_index, \"Test:\", test_index)\n",
    "            train_x_crossV2, test_x_crossV2 = X[train_index], X[test_index]\n",
    "            train_y_crossV2, test_y_crossV2 = y[train_index], y[test_index]\n",
    "    return test_x_crossV1,test_y_crossV1,test_x_crossV2,test_y_crossV2\n",
    "def kFolds_loop(X,y):\n",
    "    kf = KFold(n_splits=2)\n",
    "    KFold(n_splits=2, random_state=42, shuffle=True)\n",
    "    count=0\n",
    "    #print(\"Will use for Cross Validation for training\")\n",
    "    for train_index, test_index in kf.split(X):\n",
    "        if(count==0):\n",
    "            #print(\"Train:\", train_index, \"Test:\", test_index)\n",
    "            train_x_crossV1, test_x_crossV1 = X[train_index], X[test_index]\n",
    "            train_y_crossV1, test_y_crossV1 = y[train_index], y[test_index]\n",
    "            #print(train_x_crossV1)\n",
    "            count+=1\n",
    "        else:\n",
    "            #print(\"Train:\", train_index, \"Test:\", test_index)\n",
    "            train_x_crossV2, test_x_crossV2 = X[train_index], X[test_index]\n",
    "            train_y_crossV2, test_y_crossV2 = y[train_index], y[test_index]\n",
    "    return test_x_crossV1,test_y_crossV1,test_x_crossV2,test_y_crossV2\n",
    "\n",
    "X_train_s,y_train_s,X_test_s,y_test_s= kFolds(Geo_s) #for hoursStack"
   ]
  },
  {
   "cell_type": "code",
   "execution_count": 115,
   "id": "f7f52e64",
   "metadata": {},
   "outputs": [
    {
     "name": "stdout",
     "output_type": "stream",
     "text": [
      "INFO:tensorflow:Reloading Oracle from existing project .\\structured_data_regressor\\oracle.json\n",
      "INFO:tensorflow:Reloading Tuner from .\\structured_data_regressor\\tuner0.json\n",
      "23_08.00.2008.22.00_to_08.00.2008.23.00.hdf\n",
      "Reading Data...\n",
      "FUCKED UP:  23_08.00.2008.22.00_to_08.00.2008.23.00.hdf\n",
      "Training on hdf:  23_08.00.2008.22.00_to_08.00.2008.23.00.hdf\n",
      "INFO:tensorflow:Oracle triggered exit\n",
      "Epoch 1/13\n",
      "323/323 [==============================] - 13s 38ms/step - loss: 0.1681 - mean_squared_error: 0.1681\n",
      "Epoch 2/13\n",
      "323/323 [==============================] - 12s 38ms/step - loss: 0.1661 - mean_squared_error: 0.1661\n",
      "Epoch 3/13\n",
      "323/323 [==============================] - 12s 38ms/step - loss: 0.1659 - mean_squared_error: 0.1659\n",
      "Epoch 4/13\n",
      "323/323 [==============================] - 12s 37ms/step - loss: 0.1659 - mean_squared_error: 0.1659\n",
      "Epoch 5/13\n",
      "323/323 [==============================] - 12s 38ms/step - loss: 0.1658 - mean_squared_error: 0.1658\n",
      "Epoch 6/13\n",
      "323/323 [==============================] - 12s 38ms/step - loss: 0.1659 - mean_squared_error: 0.1659\n",
      "Epoch 7/13\n",
      "323/323 [==============================] - 13s 39ms/step - loss: 0.1659 - mean_squared_error: 0.1659\n",
      "Epoch 8/13\n",
      "323/323 [==============================] - 13s 40ms/step - loss: 0.1658 - mean_squared_error: 0.1658\n",
      "Epoch 9/13\n",
      "323/323 [==============================] - 12s 38ms/step - loss: 0.1658 - mean_squared_error: 0.1658\n",
      "Epoch 10/13\n",
      "323/323 [==============================] - 12s 38ms/step - loss: 0.1658 - mean_squared_error: 0.1658\n",
      "Epoch 11/13\n",
      "323/323 [==============================] - 12s 38ms/step - loss: 0.1658 - mean_squared_error: 0.1658\n",
      "Epoch 12/13\n",
      "323/323 [==============================] - 12s 37ms/step - loss: 0.1658 - mean_squared_error: 0.1658\n",
      "Epoch 13/13\n",
      "323/323 [==============================] - 13s 40ms/step - loss: 0.1658 - mean_squared_error: 0.1658\n",
      "INFO:tensorflow:Assets written to: .\\structured_data_regressor\\best_model\\assets\n"
     ]
    }
   ],
   "source": [
    "import os\n",
    "import pickle5 as pickle\n",
    "\n",
    "# This is the path where all the files are stored.\n",
    "#folder path = '/home/user/some_folder/'\n",
    "fPath = 'C:/Users/johno/MachineLearning/ML_Project/tracesV2'\n",
    "# Open one of the files,\n",
    "\n",
    "search = StructuredDataRegressor(max_trials=15, loss='mean_squared_error') \n",
    "for fileName in os.listdir(fPath):\n",
    "    print(fileName)\n",
    "    print(\"Reading Data...\")\n",
    "    df = pd.read_hdf(\"tracesV2/\"+fileName, key='df')\n",
    "    X_df= df[[\"SRC_Lat\",\"SRC_Lon\",\"REC_Lat\",\"REC_Lon\"]]\n",
    "    y_df= df[[\"Greens\"]]\n",
    "    X=  X_df.to_numpy()\n",
    "    y= y_df.to_numpy()\n",
    "    y=  y[:,0]\n",
    "    y = [ x.tolist() for x in y]\n",
    "    y= np.array(y)\n",
    "    #checking for 0's \n",
    "    indexDel=~(np.max(np.abs(y),axis=1)==0)\n",
    "#     print(y.shape)\n",
    "#     print(y[np.array(np.nonzero(~indexDel)).flatten().reshape(-1,1)[0],:])\n",
    "#     print(y[np.array(np.nonzero(~indexDel)).flatten().reshape(-1,1)[50],:])\n",
    "    X = X[indexDel,:]\n",
    "    y = y[indexDel,:]\n",
    "    if(np.sum(~indexDel)>0):\n",
    "        print(\"Data FUCKED UP: \", fileName)\n",
    "        if len(y)==0:\n",
    "            print(' WE SUPER FUCKED UP: No more data. Continuing....')\n",
    "            continue\n",
    "\n",
    "    y= y/ np.max(y,axis=1).reshape(-1,1)\n",
    "    \n",
    "    X_train_h,y_train_h,X_test_h,y_test_h= kFolds_loop(X,y)\n",
    "    print(\"Training on hdf: \", fileName )\n",
    "    search.fit(x=X_train_h, y=y_train_h, verbose=0,validation_split=0.2)\n",
    "    search.fit(x=X_test_h, y=y_test_h, verbose=0,validation_split=0.2)\n",
    "    \n",
    "#using superSet to evaluate\n",
    "#mae, _ = search.evaluate(X_test_s, y_test_s, verbose=0)\n",
    "#print('Mean Square Error Average: %.3f' % mae)\n",
    "#model = search.export_model()\n",
    "#model.summary()"
   ]
  },
  {
   "cell_type": "code",
   "execution_count": 116,
   "id": "73d6edde",
   "metadata": {},
   "outputs": [
    {
     "name": "stdout",
     "output_type": "stream",
     "text": [
      "Mean Square Error Average: 0.152\n",
      "Model: \"model\"\n",
      "_________________________________________________________________\n",
      "Layer (type)                 Output Shape              Param #   \n",
      "=================================================================\n",
      "input_1 (InputLayer)         [(None, 4)]               0         \n",
      "_________________________________________________________________\n",
      "multi_category_encoding (Mul (None, 4)                 0         \n",
      "_________________________________________________________________\n",
      "dense (Dense)                (None, 32)                160       \n",
      "_________________________________________________________________\n",
      "re_lu (ReLU)                 (None, 32)                0         \n",
      "_________________________________________________________________\n",
      "dense_1 (Dense)              (None, 32)                1056      \n",
      "_________________________________________________________________\n",
      "re_lu_1 (ReLU)               (None, 32)                0         \n",
      "_________________________________________________________________\n",
      "regression_head_33 (Dense)   (None, 3001)              99033     \n",
      "=================================================================\n",
      "Total params: 100,249\n",
      "Trainable params: 100,249\n",
      "Non-trainable params: 0\n",
      "_________________________________________________________________\n"
     ]
    }
   ],
   "source": [
    "mae, _ = search.evaluate(X_test_s, y_test_s, verbose=0)\n",
    "print('Mean Square Error Average: %.3f' % mae)\n",
    "model = search.export_model()\n",
    "model.summary()"
   ]
  },
  {
   "cell_type": "markdown",
   "id": "1e6e8c93",
   "metadata": {},
   "source": [
    "## Model For HourStacked Data"
   ]
  },
  {
   "cell_type": "code",
   "execution_count": 70,
   "id": "56dfb738",
   "metadata": {},
   "outputs": [
    {
     "data": {
      "text/plain": [
       "array([0., 0., 0., ..., 0., 0., 0.])"
      ]
     },
     "execution_count": 70,
     "metadata": {},
     "output_type": "execute_result"
    }
   ],
   "source": [
    "y[360,:]"
   ]
  },
  {
   "cell_type": "code",
   "execution_count": 69,
   "id": "93cf9d76",
   "metadata": {},
   "outputs": [
    {
     "data": {
      "text/plain": [
       "360"
      ]
     },
     "execution_count": 69,
     "metadata": {},
     "output_type": "execute_result"
    }
   ],
   "source": [
    "np.argmin(np.max(y,axis=1).reshape(-1,1))"
   ]
  },
  {
   "cell_type": "code",
   "execution_count": 5,
   "id": "b31ef475",
   "metadata": {
    "scrolled": false
   },
   "outputs": [
    {
     "name": "stdout",
     "output_type": "stream",
     "text": [
      "INFO:tensorflow:Reloading Oracle from existing project .\\structured_data_regressor\\oracle.json\n",
      "INFO:tensorflow:Reloading Tuner from .\\structured_data_regressor\\tuner0.json\n",
      "INFO:tensorflow:Oracle triggered exit\n",
      "Epoch 1/13\n",
      "130/130 [==============================] - 1s 3ms/step - loss: 0.1575 - mean_squared_error: 0.1575\n",
      "Epoch 2/13\n",
      "130/130 [==============================] - 0s 3ms/step - loss: 0.1567 - mean_squared_error: 0.1567\n",
      "Epoch 3/13\n",
      "130/130 [==============================] - 0s 3ms/step - loss: 0.1565 - mean_squared_error: 0.1565: 0s - loss: 0.1590 - mean_squared\n",
      "Epoch 4/13\n",
      "130/130 [==============================] - 0s 4ms/step - loss: 0.1564 - mean_squared_error: 0.1564\n",
      "Epoch 5/13\n",
      "130/130 [==============================] - 0s 3ms/step - loss: 0.1564 - mean_squared_error: 0.1564\n",
      "Epoch 6/13\n",
      "130/130 [==============================] - 0s 3ms/step - loss: 0.1564 - mean_squared_error: 0.1564\n",
      "Epoch 7/13\n",
      "130/130 [==============================] - 0s 3ms/step - loss: 0.1564 - mean_squared_error: 0.1564\n",
      "Epoch 8/13\n",
      "130/130 [==============================] - 0s 3ms/step - loss: 0.1563 - mean_squared_error: 0.1563\n",
      "Epoch 9/13\n",
      "130/130 [==============================] - 0s 3ms/step - loss: 0.1563 - mean_squared_error: 0.1563\n",
      "Epoch 10/13\n",
      "130/130 [==============================] - 0s 3ms/step - loss: 0.1562 - mean_squared_error: 0.1562\n",
      "Epoch 11/13\n",
      "130/130 [==============================] - 0s 3ms/step - loss: 0.1563 - mean_squared_error: 0.1563\n",
      "Epoch 12/13\n",
      "130/130 [==============================] - 0s 3ms/step - loss: 0.1562 - mean_squared_error: 0.1562\n",
      "Epoch 13/13\n",
      "130/130 [==============================] - 0s 3ms/step - loss: 0.1562 - mean_squared_error: 0.1562\n",
      "INFO:tensorflow:Assets written to: .\\structured_data_regressor\\best_model\\assets\n",
      "Mean Square Error Average: 0.156\n",
      "Model: \"model\"\n",
      "_________________________________________________________________\n",
      "Layer (type)                 Output Shape              Param #   \n",
      "=================================================================\n",
      "input_1 (InputLayer)         [(None, 4)]               0         \n",
      "_________________________________________________________________\n",
      "multi_category_encoding (Mul (None, 4)                 0         \n",
      "_________________________________________________________________\n",
      "normalization (Normalization (None, 4)                 9         \n",
      "_________________________________________________________________\n",
      "dense (Dense)                (None, 32)                160       \n",
      "_________________________________________________________________\n",
      "re_lu (ReLU)                 (None, 32)                0         \n",
      "_________________________________________________________________\n",
      "dropout (Dropout)            (None, 32)                0         \n",
      "_________________________________________________________________\n",
      "dense_1 (Dense)              (None, 32)                1056      \n",
      "_________________________________________________________________\n",
      "re_lu_1 (ReLU)               (None, 32)                0         \n",
      "_________________________________________________________________\n",
      "dropout_1 (Dropout)          (None, 32)                0         \n",
      "_________________________________________________________________\n",
      "regression_head_1 (Dense)    (None, 3001)              99033     \n",
      "=================================================================\n",
      "Total params: 100,258\n",
      "Trainable params: 100,249\n",
      "Non-trainable params: 9\n",
      "_________________________________________________________________\n"
     ]
    }
   ],
   "source": [
    "# define the search\n",
    "search = StructuredDataRegressor(max_trials=15, loss='mean_squared_error')#,directory=\"./modelSets/Hours/\"\n",
    "\n",
    "# perform the search/fitting to data\n",
    "search.fit(x=X_train_h, y=y_train_h, verbose=0,validation_split=0.2)\n",
    "search.fit(x=X_test_h, y=y_test_h, verbose=0,validation_split=0.2)\n",
    "\n",
    "# evaluate the model\n",
    "mae_h, _ = search.evaluate(X_test_h, y_test_h, verbose=0)\n",
    "print('Mean Square Error Average: %.3f' % mae_h)\n",
    "\n",
    "# get the best performing model\n",
    "model_h = search.export_model()\n",
    "#model_h.save('HourStackModel.h5',save_format='tf',overwrite=True)\n",
    "\n",
    "# summarize the loaded model\n",
    "model_h.summary()\n",
    "# save the best performing model to file\n",
    "\n",
    "#model_h.compile()\n",
    "#tf.keras.models.save_model(model_h,save_format='tf')\n",
    "#model.save('model_insurance.h5',save_format='tf')"
   ]
  },
  {
   "cell_type": "code",
   "execution_count": 6,
   "id": "3bc7a88d",
   "metadata": {},
   "outputs": [],
   "source": [
    "from sklearn.metrics import mean_squared_error as MSE\n",
    "\n",
    "def SSR(y_predict, y_truth):\n",
    "    assert y_predict.shape[0]==  y_truth.shape[0], \"In SSR: give invalid length compared to the length of true outputs\"\n",
    "    result=0\n",
    "    yDiff = [(y_truth[i] - y_predict[i])**2 for i in range(len(y_truth))] \n",
    "    result = np.sum(yDiff)\n",
    "    return result \n",
    "\n",
    "def singleCompare(model_singleCompare,indexNum,X,y, filterVal= False,plot_on = True): #assumed model is trained\n",
    "    output = model_singleCompare.predict(X[indexNum:indexNum+1]).flatten()\n",
    "    yTruth = y[indexNum:indexNum+1].flatten()\n",
    "    \n",
    "    \n",
    "    \n",
    "    low= 5\n",
    "    high=40\n",
    "    fs=50\n",
    "    \n",
    "    if filterVal:\n",
    "        output= filterHighFrequency(low,high,fs,output)\n",
    "        yTruth = filterHighFrequency(low,high,fs,yTruth)\n",
    "\n",
    "    \n",
    "    if plot_on:\n",
    "        t= np.arange(0,3001)\n",
    "        fig, (ax1, ax2) = plt.subplots(nrows=2, ncols=1, figsize=(9,10))\n",
    "        ax1.set_title(\"Predicted\")\n",
    "        ax2.set_title(\"yTrue\")\n",
    "        ax1.plot(t*1/50, output, alpha=.8,color=\"blue\")\n",
    "        ax2.plot(t*1/50, yTruth,alpha=.8,color=\"red\",linestyle='dashed')\n",
    "        plt.show()\n",
    "\n",
    " \n",
    "\n",
    "    ssr= SSR(output,yTruth)\n",
    "    mse= MSE(yTruth,output) \n",
    "    if plot_on: \n",
    "        print(\"SSR for Single Sample: \", ssr)\n",
    "        print(\"MSE for Single Sample: \", mse)\n",
    "    return mse\n",
    "\n",
    "def filterHighFrequency(lowStop,highStop, fs, sig):\n",
    "    sig = signal.detrend(sig)\n",
    "    sig = sig - np.mean(sig)\n",
    "    nyq = 0.5*fs\n",
    "    wn = [lowStop/nyq,highStop/nyq]\n",
    "    order = 8\n",
    "    sos = signal.butter(order,wn,btype=\"bandpass\",fs=fs, output= \"sos\")\n",
    "    filteredOutput= signal.detrend(signal.sosfiltfilt(sos,sig))\n",
    "    filteredOutput = filteredOutput - np.mean(filteredOutput)\n",
    "    return filteredOutput\n",
    "\n",
    "def singlePredict(indexNum):\n",
    "    # use the model to make a prediction\n",
    "    N = indexNum\n",
    "    X_new = X_test[0:(N),:]\n",
    "    X_new = np.asarray(X_new).astype('float32')\n",
    "    yhat = search.predict(X_new)\n",
    "    # print('Predicted: %.3f' % yhat[0])\n",
    "low= 5\n",
    "high=40\n",
    "fs=50    \n",
    "def quickFilter(lowStop,highStop, fs, sig):\n",
    "    sig = signal.detrend(sig)\n",
    "    sig = sig - np.mean(sig)\n",
    "    nyq = 0.5*fs\n",
    "    wn = [lowStop/nyq,highStop/nyq]\n",
    "    order = 8\n",
    "    sos = signal.butter(order,wn,btype=\"bandpass\",fs=fs, output= \"sos\")\n",
    "    filteredOutput= signal.detrend(signal.sosfiltfilt(sos,sig),axis=1)\n",
    "    filteredOutput = filteredOutput - np.mean(filteredOutput,axis=1).reshape((-1,1)) \n",
    "    return filteredOutput\n"
   ]
  },
  {
   "cell_type": "code",
   "execution_count": 7,
   "id": "018bad62",
   "metadata": {},
   "outputs": [
    {
     "data": {
      "text/plain": [
       "array([[-0.00222631, -0.00239264, -0.00235605, ...,  0.00317079,\n",
       "         0.00272477,  0.00194595]], dtype=float32)"
      ]
     },
     "execution_count": 7,
     "metadata": {},
     "output_type": "execute_result"
    }
   ],
   "source": [
    "#singleCompare(model_s,0,Geo_s.X,Geo_s.y,True)\n",
    "a1 = model_h.predict(Geo.X[0:1])\n",
    "a2 = model_h.predict(Geo.X[25:26])\n",
    "a2-a1"
   ]
  },
  {
   "cell_type": "code",
   "execution_count": 8,
   "id": "c22930a3",
   "metadata": {},
   "outputs": [
    {
     "data": {
      "text/plain": [
       "(8284, 4)"
      ]
     },
     "execution_count": 8,
     "metadata": {},
     "output_type": "execute_result"
    }
   ],
   "source": [
    "Geo.X.shape"
   ]
  },
  {
   "cell_type": "code",
   "execution_count": 9,
   "id": "1ae1649e",
   "metadata": {
    "scrolled": false
   },
   "outputs": [
    {
     "name": "stdout",
     "output_type": "stream",
     "text": [
      "output_h shape:  (8284, 3001)\n",
      "mse_h shape:  8284\n",
      "Average MSE HS Data:  0.15593033346887678\n"
     ]
    }
   ],
   "source": [
    "flt = True\n",
    "\n",
    "mse_h = []\n",
    "mse_g = []\n",
    "\n",
    "#mse_h\n",
    "yhat_h = model_h.predict(Geo.X)\n",
    "mse_h= [MSE(yhat_h[i],Geo.y[i]) for i in range(len(yhat_h))]\n",
    "print(\"output_h shape: \",yhat_h.shape)\n",
    "print(\"mse_h shape: \",len(mse_h))  \n",
    "print(\"Average MSE HS Data: \", np.mean(mse_h))"
   ]
  },
  {
   "cell_type": "code",
   "execution_count": 10,
   "id": "fea8659c",
   "metadata": {
    "scrolled": true
   },
   "outputs": [
    {
     "name": "stdout",
     "output_type": "stream",
     "text": [
      "output_s shape:  (8284, 3001)\n",
      "mse_s shape:  8284\n",
      "avg mse 0.04449279165585482\n"
     ]
    }
   ],
   "source": [
    "flt = True\n",
    "mse_s = []\n",
    "\n",
    "output = model_h.predict(Geo.X)\n",
    "\n",
    "#yTruth = Geo.y/np.max(Geo.y,axis=1).reshape((-1,1))\n",
    "#output = output/np.max(output,axis=1).reshape((-1,1)) #---------------------------------norming here\n",
    "output= quickFilter(low,high,fs,output)\n",
    "yTruth = quickFilter(low,high,fs,Geo.y)\n",
    "#yTruth = yTruth/np.max(yTruth,axis=1).reshape((-1,1)) \n",
    "#output = output/np.max(output,axis=1).reshape((-1,1)) #---------------------------------norming here\n",
    "\n",
    "\n",
    "mse_s= [MSE(output[i],yTruth[i]) for i in range(len(output))]\n",
    "np.savetxt(\"HourMSE_List.txt\", mse_s)\n",
    "\n",
    "\n",
    "\n",
    "print(\"output_s shape: \",output.shape)\n",
    "print(\"mse_s shape: \",len(mse_s))  \n",
    "print(\"avg mse\", np.mean(mse_s))"
   ]
  },
  {
   "cell_type": "code",
   "execution_count": null,
   "id": "304a90e7",
   "metadata": {},
   "outputs": [],
   "source": [
    "def histogramCompare(mse_Super,mse_Hour,mse_Giant):\n",
    "    fig, (ax1, ax2,ax3) = plt.subplots(nrows=1, ncols=3, figsize=(20,6))\n",
    "    \n",
    "    plt.suptitle(\"Mean Squared Error (MSE)\",y=1,ha=\"center\",size=24)\n",
    "    \n",
    "    \n",
    "    #Hour Stacked Data\n",
    "    mu_h, std_h = sc.stats.norm.fit(mse_Hour)\n",
    "    xVect_h= np.linspace(np.min(mse_Hour),np.max(mse_Hour),30)\n",
    "    ax2.set_title('HourStacked Data')\n",
    "    ax2.hist(mse_Hour,bins= xVect_h)\n",
    "    p_h= sc.stats.norm.pdf(xVect_h,mu_h,std_h)\n",
    "    ax2.plot(xVect_h,p_h,color=\"red\", linewidth=4)\n",
    "    print(\"Average MSE HS Data: \", np.mean(mse_Hour))\n",
    "    \n",
    "histogramCompare(0,mse_h,0)"
   ]
  },
  {
   "cell_type": "code",
   "execution_count": null,
   "id": "03f978f5",
   "metadata": {},
   "outputs": [],
   "source": [
    "#plt.plot(np.arange(0,len(mse)),mse)\n",
    "#plt.plot(np.arange(0,len(mse)),np.arange(0,len(mse))*0 + np.mean(mse),color=\"red\")"
   ]
  },
  {
   "cell_type": "code",
   "execution_count": null,
   "id": "4e4a77ef",
   "metadata": {},
   "outputs": [],
   "source": []
  }
 ],
 "metadata": {
  "kernelspec": {
   "display_name": "Python 3 (ipykernel)",
   "language": "python",
   "name": "python3"
  },
  "language_info": {
   "codemirror_mode": {
    "name": "ipython",
    "version": 3
   },
   "file_extension": ".py",
   "mimetype": "text/x-python",
   "name": "python",
   "nbconvert_exporter": "python",
   "pygments_lexer": "ipython3",
   "version": "3.7.11"
  }
 },
 "nbformat": 4,
 "nbformat_minor": 5
}
