{
 "cells": [
  {
   "cell_type": "code",
   "execution_count": 1,
   "id": "f364feb0",
   "metadata": {},
   "outputs": [
    {
     "name": "stdout",
     "output_type": "stream",
     "text": [
      "WARNING:tensorflow:From /var/folders/4c/3xb25hld3w73hv1lxgbg7r9m0000gn/T/ipykernel_6229/835452710.py:24: The name tf.keras.backend.set_session is deprecated. Please use tf.compat.v1.keras.backend.set_session instead.\n",
      "\n"
     ]
    },
    {
     "name": "stderr",
     "output_type": "stream",
     "text": [
      "2021-12-08 06:52:44.685222: I tensorflow/core/platform/cpu_feature_guard.cc:142] This TensorFlow binary is optimized with oneAPI Deep Neural Network Library (oneDNN) to use the following CPU instructions in performance-critical operations:  SSE4.1 SSE4.2\n",
      "To enable them in other operations, rebuild TensorFlow with the appropriate compiler flags.\n"
     ]
    }
   ],
   "source": [
    "seed_value= 100\n",
    "# 1. Set `PYTHONHASHSEED` environment variable at a fixed value\n",
    "import os\n",
    "os.environ['PYTHONHASHSEED']=str(seed_value)\n",
    "# 2. Set `python` built-in pseudo-random generator at a fixed value\n",
    "import random\n",
    "random.seed(seed_value)\n",
    "# 3. Set `numpy` pseudo-random generator at a fixed value\n",
    "import numpy as np\n",
    "np.random.seed(seed_value)\n",
    "# 4. Set the `tensorflow` pseudo-random generator at a fixed value\n",
    "import tensorflow as tf\n",
    "tf.random.set_seed(seed_value)\n",
    "# for later versions:\n",
    "# tf.compat.v1.set_random_seed(seed_value)\n",
    "# 5. Configure a new global `tensorflow` session\n",
    "from keras import backend as K\n",
    "# session_conf = tf.ConfigProto(intra_op_parallelism_threads=1, inter_op_parallelism_threads=1)\n",
    "# sess = tf.Session(graph=tf.get_default_graph(), config=session_conf)\n",
    "# K.set_session(sess)\n",
    "# for later versions:\n",
    "session_conf = tf.compat.v1.ConfigProto(intra_op_parallelism_threads=1, inter_op_parallelism_threads=1)\n",
    "sess = tf.compat.v1.Session(graph=tf.compat.v1.get_default_graph(), config=session_conf)\n",
    "tf.compat.v1.keras.backend.set_session(sess)\n",
    "import keras"
   ]
  },
  {
   "cell_type": "code",
   "execution_count": 2,
   "id": "27a3a8b3",
   "metadata": {},
   "outputs": [],
   "source": [
    "#import numpy as np\n",
    "import matplotlib.pyplot as plt\n",
    "from sklearn.model_selection import KFold #--needed for cross validation\n",
    "from sklearn.preprocessing import StandardScaler\n",
    "import pandas as pd\n",
    "#import keras\n",
    "import scipy as sc\n",
    "from scipy import signal\n",
    "import autokeras as ak\n",
    "#import tensorflow as tf\n",
    "from tensorflow.keras import layers\n",
    "from autokeras import StructuredDataRegressor"
   ]
  },
  {
   "cell_type": "code",
   "execution_count": 3,
   "id": "955818d6",
   "metadata": {},
   "outputs": [
    {
     "name": "stdout",
     "output_type": "stream",
     "text": [
      "Reading in HourStacked Data...\n",
      "Index(['SRC_ID', 'REC_ID', 'SRC_Lat', 'SRC_Lon', 'REC_Lat', 'REC_Lon',\n",
      "       'Greens'],\n",
      "      dtype='object')\n",
      "(8284, 3001)\n",
      "(8284, 4)\n",
      "[  41.467999 -105.722099   41.467602 -104.824799]\n",
      "[ 0.03820507  0.03856462  0.03912802 ... -0.14665908 -0.17726582\n",
      " -0.2081426 ]\n"
     ]
    }
   ],
   "source": [
    "class GeoData:\n",
    "    def __init__(self,file):\n",
    "        self.Scaler = StandardScaler()\n",
    "        self.df = pd.read_hdf(file)\n",
    "        #self.df = pd.read_pickle(\"./SuperStack.pkl\")\n",
    "        print(self.df.columns) \n",
    "        X_df= self.df[[\"SRC_Lat\",\"SRC_Lon\",\"REC_Lat\",\"REC_Lon\"]].copy()\n",
    "        y_df= self.df[[\"Greens\"]].copy()\n",
    "       \n",
    "        \n",
    "        self.X=  X_df.to_numpy()\n",
    "        self.y= y_df.to_numpy()\n",
    "        self.y=  self.y[:,0]\n",
    "        self.y = [ x.tolist() for x in self.y]\n",
    "        self.y= np.array(self.y)\n",
    "        self.y= self.y/ np.max(self.y,axis=1).reshape(-1,1)\n",
    "                         \n",
    "        \n",
    "        #self.y.shape = (380)\n",
    "        print(self.y.shape)\n",
    "        #print(self.y)\n",
    "        print(self.X.shape)\n",
    "        print(self.X[0])\n",
    "        print(self.y[0])\n",
    "testFile_h=\"./Data/Supersets/hdf/HourStack.hdf\"\n",
    "#testFile_s=\"SuperStack.hdf\"\n",
    "print(\"Reading in HourStacked Data...\")\n",
    "Geo = GeoData(testFile_h)\n",
    "\n",
    "ModelSetName = 'HourStack'"
   ]
  },
  {
   "cell_type": "code",
   "execution_count": 4,
   "id": "f302d83f",
   "metadata": {},
   "outputs": [
    {
     "name": "stdout",
     "output_type": "stream",
     "text": [
      "-Sameness Check-\n",
      "[-0.17987841 -0.18031167 -0.18050829 ... -0.40216358 -0.43070668\n",
      " -0.45939681]\n",
      "[ 0.6409   -0.839698  2.093502  1.014   ]\n"
     ]
    }
   ],
   "source": [
    "\n",
    "print('-Sameness Check-')\n",
    "print(Geo.y[0,:] - Geo.y[100,:])\n",
    "print(Geo.X[0,:] - Geo.X[100,:])\n"
   ]
  },
  {
   "cell_type": "code",
   "execution_count": 5,
   "id": "6d46d760",
   "metadata": {
    "scrolled": false
   },
   "outputs": [
    {
     "name": "stdout",
     "output_type": "stream",
     "text": [
      "Will use for Cross Validation for training\n"
     ]
    }
   ],
   "source": [
    "def kFolds(Geo):\n",
    "    kf = KFold(n_splits=2)\n",
    "    X= Geo.X.copy()\n",
    "    y= Geo.y.copy()\n",
    "    KFold(n_splits=2, random_state=42, shuffle=True)\n",
    "    count=0\n",
    "    print(\"Will use for Cross Validation for training\")\n",
    "    for train_index, test_index in kf.split(X):\n",
    "        if(count==0):\n",
    "            #print(\"Train:\", train_index, \"Test:\", test_index)\n",
    "            train_x_crossV1, test_x_crossV1 = X[train_index], X[test_index]\n",
    "            train_y_crossV1, test_y_crossV1 = y[train_index], y[test_index]\n",
    "            #print(train_x_crossV1)\n",
    "            count+=1\n",
    "        else:\n",
    "            #print(\"Train:\", train_index, \"Test:\", test_index)\n",
    "            train_x_crossV2, test_x_crossV2 = X[train_index], X[test_index]\n",
    "            train_y_crossV2, test_y_crossV2 = y[train_index], y[test_index]\n",
    "    return test_x_crossV1,test_y_crossV1,test_x_crossV2,test_y_crossV2\n",
    "\n",
    "\n",
    "X_train_h,y_train_h,X_test_h,y_test_h= kFolds(Geo) #for hoursStack"
   ]
  },
  {
   "cell_type": "markdown",
   "id": "66bb940e",
   "metadata": {},
   "source": [
    "## Model For HourStacked Data"
   ]
  },
  {
   "cell_type": "code",
   "execution_count": 6,
   "id": "e433ddef",
   "metadata": {
    "scrolled": false
   },
   "outputs": [
    {
     "name": "stderr",
     "output_type": "stream",
     "text": [
      "2021-12-08 06:52:48.611180: I tensorflow/compiler/mlir/mlir_graph_optimization_pass.cc:116] None of the MLIR optimization passes are enabled (registered 2)\n"
     ]
    },
    {
     "name": "stdout",
     "output_type": "stream",
     "text": [
      "INFO:tensorflow:Oracle triggered exit\n",
      "Epoch 1/3\n",
      "130/130 [==============================] - 1s 3ms/step - loss: 0.1592 - mean_squared_error: 0.1592\n",
      "Epoch 2/3\n",
      "130/130 [==============================] - 0s 3ms/step - loss: 0.1587 - mean_squared_error: 0.1587\n",
      "Epoch 3/3\n",
      "130/130 [==============================] - 0s 3ms/step - loss: 0.1582 - mean_squared_error: 0.1582\n"
     ]
    },
    {
     "name": "stderr",
     "output_type": "stream",
     "text": [
      "2021-12-08 06:56:51.025516: W tensorflow/python/util/util.cc:348] Sets are not currently considered sequences, but this may change in the future, so consider avoiding using them.\n"
     ]
    },
    {
     "name": "stdout",
     "output_type": "stream",
     "text": [
      "INFO:tensorflow:Assets written to: ./structured_data_regressor/best_model/assets\n",
      "Mean Square Error Average: 0.156\n",
      "WARNING:tensorflow:5 out of the last 5 calls to <function recreate_function.<locals>.restored_function_body at 0x7fbf10819f70> triggered tf.function retracing. Tracing is expensive and the excessive number of tracings could be due to (1) creating @tf.function repeatedly in a loop, (2) passing tensors with different shapes, (3) passing Python objects instead of tensors. For (1), please define your @tf.function outside of the loop. For (2), @tf.function has experimental_relax_shapes=True option that relaxes argument shapes that can avoid unnecessary retracing. For (3), please refer to https://www.tensorflow.org/guide/function#controlling_retracing and https://www.tensorflow.org/api_docs/python/tf/function for  more details.\n",
      "WARNING:tensorflow:6 out of the last 6 calls to <function recreate_function.<locals>.restored_function_body at 0x7fbf26b82430> triggered tf.function retracing. Tracing is expensive and the excessive number of tracings could be due to (1) creating @tf.function repeatedly in a loop, (2) passing tensors with different shapes, (3) passing Python objects instead of tensors. For (1), please define your @tf.function outside of the loop. For (2), @tf.function has experimental_relax_shapes=True option that relaxes argument shapes that can avoid unnecessary retracing. For (3), please refer to https://www.tensorflow.org/guide/function#controlling_retracing and https://www.tensorflow.org/api_docs/python/tf/function for  more details.\n",
      "WARNING:tensorflow:7 out of the last 7 calls to <function recreate_function.<locals>.restored_function_body at 0x7fbf26f9d310> triggered tf.function retracing. Tracing is expensive and the excessive number of tracings could be due to (1) creating @tf.function repeatedly in a loop, (2) passing tensors with different shapes, (3) passing Python objects instead of tensors. For (1), please define your @tf.function outside of the loop. For (2), @tf.function has experimental_relax_shapes=True option that relaxes argument shapes that can avoid unnecessary retracing. For (3), please refer to https://www.tensorflow.org/guide/function#controlling_retracing and https://www.tensorflow.org/api_docs/python/tf/function for  more details.\n",
      "WARNING:tensorflow:8 out of the last 8 calls to <function recreate_function.<locals>.restored_function_body at 0x7fbf108191f0> triggered tf.function retracing. Tracing is expensive and the excessive number of tracings could be due to (1) creating @tf.function repeatedly in a loop, (2) passing tensors with different shapes, (3) passing Python objects instead of tensors. For (1), please define your @tf.function outside of the loop. For (2), @tf.function has experimental_relax_shapes=True option that relaxes argument shapes that can avoid unnecessary retracing. For (3), please refer to https://www.tensorflow.org/guide/function#controlling_retracing and https://www.tensorflow.org/api_docs/python/tf/function for  more details.\n",
      "Model: \"model\"\n",
      "_________________________________________________________________\n",
      "Layer (type)                 Output Shape              Param #   \n",
      "=================================================================\n",
      "input_1 (InputLayer)         [(None, 4)]               0         \n",
      "_________________________________________________________________\n",
      "multi_category_encoding (Mul (None, 4)                 0         \n",
      "_________________________________________________________________\n",
      "normalization (Normalization (None, 4)                 9         \n",
      "_________________________________________________________________\n",
      "dense (Dense)                (None, 32)                160       \n",
      "_________________________________________________________________\n",
      "re_lu (ReLU)                 (None, 32)                0         \n",
      "_________________________________________________________________\n",
      "dense_1 (Dense)              (None, 16)                528       \n",
      "_________________________________________________________________\n",
      "re_lu_1 (ReLU)               (None, 16)                0         \n",
      "_________________________________________________________________\n",
      "regression_head_1 (Dense)    (None, 3001)              51017     \n",
      "=================================================================\n",
      "Total params: 51,714\n",
      "Trainable params: 51,705\n",
      "Non-trainable params: 9\n",
      "_________________________________________________________________\n"
     ]
    }
   ],
   "source": [
    "# define the search\n",
    "search = StructuredDataRegressor(max_trials=15, loss='mean_squared_error',directory='./Models/' + ModelSetName)\n",
    "\n",
    "# perform the search/fitting to data\n",
    "search.fit(x=X_train_h, y=y_train_h, verbose=0,validation_split=0.2)\n",
    "search.fit(x=X_test_h, y=y_test_h, verbose=0,validation_split=0.2)\n",
    "\n",
    "# evaluate the model\n",
    "mae_h, _ = search.evaluate(X_test_h, y_test_h, verbose=0)\n",
    "print('Mean Square Error Average: %.3f' % mae_h)\n",
    "\n",
    "# get the best performing model\n",
    "model_h = search.export_model()\n",
    "# model_h.save('HourStackModel.h5',save_format='tf')\n",
    "# summarize the loaded model\n",
    "model_h.summary()\n",
    "# save the best performing model to file\n",
    "\n",
    "model_h.compile()\n",
    "\n",
    "# model.save('model_insurance.h5',save_format='tf')"
   ]
  },
  {
   "cell_type": "code",
   "execution_count": 7,
   "id": "bf8ba414",
   "metadata": {},
   "outputs": [
    {
     "data": {
      "text/plain": [
       "array([[-0.00598792, -0.00446582, -0.00385201, ...,  0.00289475,\n",
       "        -0.01582707, -0.00379207]], dtype=float32)"
      ]
     },
     "execution_count": 7,
     "metadata": {},
     "output_type": "execute_result"
    }
   ],
   "source": [
    "\n",
    "model_h.predict(Geo.X[10:10+1]) - model_h.predict(Geo.X[50:50+1])\n"
   ]
  },
  {
   "cell_type": "code",
   "execution_count": 8,
   "id": "92b5ea23",
   "metadata": {},
   "outputs": [],
   "source": [
    "from sklearn.metrics import mean_squared_error as MSE\n",
    "\n",
    "def SSR(y_predict, y_truth):\n",
    "    assert y_predict.shape[0]==  y_truth.shape[0], \"In SSR: give invalid length compared to the length of true outputs\"\n",
    "    result=0\n",
    "    yDiff = [(y_truth[i] - y_predict[i])**2 for i in range(len(y_truth))] \n",
    "    result = np.sum(yDiff)\n",
    "    return result \n",
    "\n",
    "def singleCompare(model_singleCompare,indexNum,X,y, filterVal= False,plot_on = True): #assumed model is trained\n",
    "    output = model_singleCompare.predict(X[indexNum:indexNum+1]).flatten()\n",
    "    yTruth = y[indexNum:indexNum+1].flatten()\n",
    "    \n",
    "    \n",
    "    \n",
    "    low= 5\n",
    "    high=40\n",
    "    fs=50\n",
    "    \n",
    "    if filterVal:\n",
    "        output= filterHighFrequency(low,high,fs,output)\n",
    "        yTruth = filterHighFrequency(low,high,fs,yTruth)\n",
    "\n",
    "    \n",
    "    if plot_on:\n",
    "        t= np.arange(0,3001)\n",
    "        fig, (ax1, ax2) = plt.subplots(nrows=2, ncols=1, figsize=(9,10))\n",
    "        ax1.set_title(\"Predicted\")\n",
    "        ax2.set_title(\"yTrue\")\n",
    "        ax1.plot(t*1/50, output, alpha=.8,color=\"blue\")\n",
    "        ax2.plot(t*1/50, yTruth,alpha=.8,color=\"red\",linestyle='dashed')\n",
    "        plt.show()\n",
    "\n",
    " \n",
    "\n",
    "    ssr= SSR(output,yTruth)\n",
    "    mse= MSE(yTruth,output) \n",
    "    if plot_on: \n",
    "        print(\"SSR for Single Sample: \", ssr)\n",
    "        print(\"MSE for Single Sample: \", mse)\n",
    "    return mse\n",
    "\n",
    "def filterHighFrequency(lowStop,highStop, fs, sig):\n",
    "    sig = signal.detrend(sig)\n",
    "    sig = sig - np.mean(sig)\n",
    "    nyq = 0.5*fs\n",
    "    wn = [lowStop/nyq,highStop/nyq]\n",
    "    order = 8\n",
    "    sos = signal.butter(order,wn,btype=\"bandpass\",fs=fs, output= \"sos\")\n",
    "    filteredOutput= signal.detrend(signal.sosfiltfilt(sos,sig))\n",
    "    filteredOutput = filteredOutput - np.mean(filteredOutput)\n",
    "    return filteredOutput\n",
    "\n",
    "def singlePredict(indexNum):\n",
    "    # use the model to make a prediction\n",
    "    N = indexNum\n",
    "    X_new = X_test[0:(N),:]\n",
    "    X_new = np.asarray(X_new).astype('float32')\n",
    "    yhat = search.predict(X_new)\n",
    "    # print('Predicted: %.3f' % yhat[0])\n",
    "low= 5\n",
    "high=40\n",
    "fs=50    \n",
    "def quickFilter(lowStop,highStop, fs, sig):\n",
    "    sig = signal.detrend(sig)\n",
    "    sig = sig - np.mean(sig)\n",
    "    nyq = 0.5*fs\n",
    "    wn = [lowStop/nyq,highStop/nyq]\n",
    "    order = 8\n",
    "    sos = signal.butter(order,wn,btype=\"bandpass\",fs=fs, output= \"sos\")\n",
    "    filteredOutput= signal.detrend(signal.sosfiltfilt(sos,sig),axis=1)\n",
    "    filteredOutput = filteredOutput - np.mean(filteredOutput,axis=1).reshape((-1,1)) \n",
    "    return filteredOutput\n"
   ]
  },
  {
   "cell_type": "code",
   "execution_count": 9,
   "id": "b687f2c5",
   "metadata": {},
   "outputs": [
    {
     "data": {
      "text/plain": [
       "array([[ 3.1894497e-03,  8.4373169e-05, -3.5758996e-03, ...,\n",
       "         2.5747310e-02,  2.1578252e-02,  7.5028688e-03]], dtype=float32)"
      ]
     },
     "execution_count": 9,
     "metadata": {},
     "output_type": "execute_result"
    }
   ],
   "source": [
    "#singleCompare(model_s,0,Geo_s.X,Geo_s.y,True)\n",
    "a1 = model_h.predict(Geo.X[0:1])\n",
    "a2 = model_h.predict(Geo.X[25:26])\n",
    "a2-a1"
   ]
  },
  {
   "cell_type": "code",
   "execution_count": 10,
   "id": "57028049",
   "metadata": {},
   "outputs": [
    {
     "data": {
      "text/plain": [
       "(8284, 4)"
      ]
     },
     "execution_count": 10,
     "metadata": {},
     "output_type": "execute_result"
    }
   ],
   "source": [
    "Geo.X.shape"
   ]
  },
  {
   "cell_type": "code",
   "execution_count": 11,
   "id": "e565bb3d",
   "metadata": {
    "scrolled": false
   },
   "outputs": [
    {
     "name": "stdout",
     "output_type": "stream",
     "text": [
      "output_h shape:  (8284, 3001)\n",
      "mse_h shape:  8284\n",
      "Average MSE HS Data:  0.1557142436603197\n"
     ]
    }
   ],
   "source": [
    "flt = True\n",
    "\n",
    "mse_h = []\n",
    "mse_g = []\n",
    "\n",
    "#mse_h\n",
    "yhat_h = model_h.predict(Geo.X)\n",
    "mse_h= [MSE(yhat_h[i],Geo.y[i]) for i in range(len(yhat_h))]\n",
    "print(\"output_h shape: \",yhat_h.shape)\n",
    "print(\"mse_h shape: \",len(mse_h))  \n",
    "print(\"Average MSE HS Data: \", np.mean(mse_h))"
   ]
  },
  {
   "cell_type": "code",
   "execution_count": 12,
   "id": "0e3e8dd0",
   "metadata": {},
   "outputs": [
    {
     "name": "stdout",
     "output_type": "stream",
     "text": [
      "output_s shape:  (8284, 3001)\n",
      "mse_s shape:  8284\n",
      "avg mse 0.04442730728038105\n"
     ]
    }
   ],
   "source": [
    "flt = True\n",
    "mse_s = []\n",
    "\n",
    "output = model_h.predict(Geo.X)\n",
    "\n",
    "#yTruth = Geo.y/np.max(Geo.y,axis=1).reshape((-1,1))\n",
    "#output = output/np.max(output,axis=1).reshape((-1,1)) #---------------------------------norming here\n",
    "output= quickFilter(low,high,fs,output)\n",
    "yTruth = quickFilter(low,high,fs,Geo.y)\n",
    "#yTruth = yTruth/np.max(yTruth,axis=1).reshape((-1,1)) \n",
    "#output = output/np.max(output,axis=1).reshape((-1,1)) #---------------------------------norming here\n",
    "\n",
    "\n",
    "mse_s= [MSE(output[i],yTruth[i]) for i in range(len(output))]\n",
    "print(\"output_s shape: \",output.shape)\n",
    "print(\"mse_s shape: \",len(mse_s))  \n",
    "print(\"avg mse\", np.mean(mse_s))"
   ]
  },
  {
   "cell_type": "code",
   "execution_count": 13,
   "id": "979a353a",
   "metadata": {},
   "outputs": [
    {
     "name": "stdout",
     "output_type": "stream",
     "text": [
      "Average MSE HS Data:  0.1557142436603197\n"
     ]
    },
    {
     "data": {
      "image/png": "[encoded data removed]",
      "text/plain": [
       "<Figure size 1440x432 with 3 Axes>"
      ]
     },
     "metadata": {
      "needs_background": "light"
     },
     "output_type": "display_data"
    }
   ],
   "source": [
    "def histogramCompare(mse_Super,mse_Hour,mse_Giant):\n",
    "    fig, (ax1, ax2,ax3) = plt.subplots(nrows=1, ncols=3, figsize=(20,6))\n",
    "    \n",
    "    plt.suptitle(\"Mean Squared Error (MSE)\",y=1,ha=\"center\",size=24)\n",
    "    \n",
    "    \n",
    "    #Hour Stacked Data\n",
    "    mu_h, std_h = sc.stats.norm.fit(mse_Hour)\n",
    "    xVect_h= np.linspace(np.min(mse_Hour),np.max(mse_Hour),30)\n",
    "    ax2.set_title('HourStacked Data')\n",
    "    ax2.hist(mse_Hour,bins= xVect_h)\n",
    "    p_h= sc.stats.norm.pdf(xVect_h,mu_h,std_h)\n",
    "    ax2.plot(xVect_h,p_h,color=\"red\", linewidth=4)\n",
    "    print(\"Average MSE HS Data: \", np.mean(mse_Hour))\n",
    "    \n",
    "histogramCompare(0,mse_h,0)"
   ]
  },
  {
   "cell_type": "code",
   "execution_count": 14,
   "id": "f006ad31",
   "metadata": {},
   "outputs": [],
   "source": [
    "#plt.plot(np.arange(0,len(mse)),mse)\n",
    "#plt.plot(np.arange(0,len(mse)),np.arange(0,len(mse))*0 + np.mean(mse),color=\"red\")"
   ]
  }
 ],
 "metadata": {
  "kernelspec": {
   "display_name": "Python 3 (ipykernel)",
   "language": "python",
   "name": "python3"
  },
  "language_info": {
   "codemirror_mode": {
    "name": "ipython",
    "version": 3
   },
   "file_extension": ".py",
   "mimetype": "text/x-python",
   "name": "python",
   "nbconvert_exporter": "python",
   "pygments_lexer": "ipython3",
   "version": "3.8.12"
  }
 },
 "nbformat": 4,
 "nbformat_minor": 5
}
